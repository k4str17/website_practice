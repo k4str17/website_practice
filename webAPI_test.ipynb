{
  "nbformat": 4,
  "nbformat_minor": 0,
  "metadata": {
    "colab": {
      "name": "webAPI_test",
      "provenance": [],
      "collapsed_sections": [],
      "mount_file_id": "19aKrwRn0isRcLd6YDUAxUWsq0PvNOWEA",
      "authorship_tag": "ABX9TyNqSj9y69DiPZ4y52Ki/qsd",
      "include_colab_link": true
    },
    "kernelspec": {
      "name": "python3",
      "display_name": "Python 3"
    },
    "language_info": {
      "name": "python"
    }
  },
  "cells": [
    {
      "cell_type": "markdown",
      "metadata": {
        "id": "view-in-github",
        "colab_type": "text"
      },
      "source": [
        "<a href=\"https://colab.research.google.com/github/k4str17/website_practice/blob/main/webAPI_test.ipynb\" target=\"_parent\"><img src=\"https://colab.research.google.com/assets/colab-badge.svg\" alt=\"Open In Colab\"/></a>"
      ]
    },
    {
      "cell_type": "code",
      "source": [
        "!pip install fastapi"
      ],
      "metadata": {
        "colab": {
          "base_uri": "https://localhost:8080/"
        },
        "id": "23aUE81x2VLc",
        "outputId": "3f0b892d-689b-4a55-ada7-ba992ed2de44"
      },
      "execution_count": null,
      "outputs": [
        {
          "output_type": "stream",
          "name": "stdout",
          "text": [
            "Collecting fastapi\n",
            "  Downloading fastapi-0.73.0-py3-none-any.whl (52 kB)\n",
            "\u001b[K     |████████████████████████████████| 52 kB 783 kB/s \n",
            "\u001b[?25hCollecting starlette==0.17.1\n",
            "  Downloading starlette-0.17.1-py3-none-any.whl (58 kB)\n",
            "\u001b[K     |████████████████████████████████| 58 kB 5.3 MB/s \n",
            "\u001b[?25hCollecting pydantic!=1.7,!=1.7.1,!=1.7.2,!=1.7.3,!=1.8,!=1.8.1,<2.0.0,>=1.6.2\n",
            "  Downloading pydantic-1.9.0-cp37-cp37m-manylinux_2_17_x86_64.manylinux2014_x86_64.whl (10.9 MB)\n",
            "\u001b[K     |████████████████████████████████| 10.9 MB 28.4 MB/s \n",
            "\u001b[?25hRequirement already satisfied: typing-extensions in /usr/local/lib/python3.7/dist-packages (from starlette==0.17.1->fastapi) (3.10.0.2)\n",
            "Collecting anyio<4,>=3.0.0\n",
            "  Downloading anyio-3.5.0-py3-none-any.whl (79 kB)\n",
            "\u001b[K     |████████████████████████████████| 79 kB 7.6 MB/s \n",
            "\u001b[?25hRequirement already satisfied: idna>=2.8 in /usr/local/lib/python3.7/dist-packages (from anyio<4,>=3.0.0->starlette==0.17.1->fastapi) (2.10)\n",
            "Collecting sniffio>=1.1\n",
            "  Downloading sniffio-1.2.0-py3-none-any.whl (10 kB)\n",
            "Installing collected packages: sniffio, anyio, starlette, pydantic, fastapi\n",
            "Successfully installed anyio-3.5.0 fastapi-0.73.0 pydantic-1.9.0 sniffio-1.2.0 starlette-0.17.1\n"
          ]
        }
      ]
    },
    {
      "cell_type": "code",
      "source": [
        "from fastapi import FastAPI"
      ],
      "metadata": {
        "id": "_mD10cUv2iw7"
      },
      "execution_count": null,
      "outputs": []
    },
    {
      "cell_type": "code",
      "source": [
        "import sqlite3\n",
        "import pandas.io.sql as psql"
      ],
      "metadata": {
        "id": "1q3DYZ113W4q"
      },
      "execution_count": null,
      "outputs": []
    },
    {
      "cell_type": "code",
      "source": [
        "con = sqlite3.connect(\"/content/drive/MyDrive/Colab Notebooks/webAPI/DB/test.db\")\n",
        "cur = con.cursor()\n",
        "cur.execute('insert into ArticleListDB(search_day, article_title) values(\"2022-01-29\", \"security\")')\n",
        "\n",
        "df = psql.read_sql(\"select search_day,article_title from ArticleListDB\", con)\n",
        "print(df)"
      ],
      "metadata": {
        "id": "uF4wJ2ST3J_C",
        "colab": {
          "base_uri": "https://localhost:8080/"
        },
        "outputId": "355de0b6-8a65-4e27-9c14-62620f8e1a1f"
      },
      "execution_count": null,
      "outputs": [
        {
          "output_type": "stream",
          "name": "stdout",
          "text": [
            "   search_day article_title\n",
            "0  2022-01-29      security\n"
          ]
        }
      ]
    },
    {
      "cell_type": "code",
      "source": [
        "cur.execute(\"CREATE TABLE IF NOT EXISTS ArticleListDB(search_day text, search_time text, search_key text, article_title text, article_url text, company text, type text, category text, keyword text)\")"
      ],
      "metadata": {
        "id": "U1XFUS6l4JZz",
        "colab": {
          "base_uri": "https://localhost:8080/"
        },
        "outputId": "a58e6553-f162-45c8-fc79-77b4ff329cc7"
      },
      "execution_count": null,
      "outputs": [
        {
          "output_type": "execute_result",
          "data": {
            "text/plain": [
              "<sqlite3.Cursor at 0x7fa0294f29d0>"
            ]
          },
          "metadata": {},
          "execution_count": 9
        }
      ]
    },
    {
      "cell_type": "code",
      "source": [
        "!pip install pandas"
      ],
      "metadata": {
        "id": "z_E2mvTN6B5p",
        "colab": {
          "base_uri": "https://localhost:8080/"
        },
        "outputId": "d3a48f68-e7a1-43c5-889a-b08479b76971"
      },
      "execution_count": null,
      "outputs": [
        {
          "output_type": "stream",
          "name": "stdout",
          "text": [
            "Requirement already satisfied: pandas in /usr/local/lib/python3.7/dist-packages (1.1.5)\n",
            "Requirement already satisfied: pytz>=2017.2 in /usr/local/lib/python3.7/dist-packages (from pandas) (2018.9)\n",
            "Requirement already satisfied: python-dateutil>=2.7.3 in /usr/local/lib/python3.7/dist-packages (from pandas) (2.8.2)\n",
            "Requirement already satisfied: numpy>=1.15.4 in /usr/local/lib/python3.7/dist-packages (from pandas) (1.19.5)\n",
            "Requirement already satisfied: six>=1.5 in /usr/local/lib/python3.7/dist-packages (from python-dateutil>=2.7.3->pandas) (1.15.0)\n"
          ]
        }
      ]
    },
    {
      "cell_type": "code",
      "source": [
        "import pandas.io.sql as psql"
      ],
      "metadata": {
        "id": "-8hq_V9Y7xhf"
      },
      "execution_count": null,
      "outputs": []
    },
    {
      "cell_type": "code",
      "source": [
        "df = psql.read_sql(\"select * from ArticleListDB\", con)\n",
        "print(df)"
      ],
      "metadata": {
        "colab": {
          "base_uri": "https://localhost:8080/"
        },
        "id": "mxAauSLG75KZ",
        "outputId": "0794684e-6045-41b9-c2ca-ec5e8f37c26c"
      },
      "execution_count": null,
      "outputs": [
        {
          "output_type": "stream",
          "name": "stdout",
          "text": [
            "   search_day search_time search_key  ...  type category keyword\n",
            "0  2022-01-29        None       いま話題  ...  None     None    None\n",
            "\n",
            "[1 rows x 9 columns]\n"
          ]
        }
      ]
    },
    {
      "cell_type": "code",
      "source": [
        "cur.execute(\"insert into ArticleListDB(search_day, search_key, article_title, company) values('2022-01-29', 'いま話題', 'セキュリティ', '株式会社○○')\")"
      ],
      "metadata": {
        "colab": {
          "base_uri": "https://localhost:8080/"
        },
        "id": "E2l2MmQw8DHv",
        "outputId": "ad8b3bb2-388f-4b48-cfd3-467f965a7ccb"
      },
      "execution_count": null,
      "outputs": [
        {
          "output_type": "execute_result",
          "data": {
            "text/plain": [
              "<sqlite3.Cursor at 0x7fa0294f29d0>"
            ]
          },
          "metadata": {},
          "execution_count": 15
        }
      ]
    },
    {
      "cell_type": "code",
      "source": [
        "filename = \"/content/drive/MyDrive/Colab Notebooks/webAPI/Output/test_export.txt\"\n",
        "df.to_csv(filename, sep=\"\\t\", encoding=\"utf-8\")"
      ],
      "metadata": {
        "id": "WRO2BKMK8oVN"
      },
      "execution_count": null,
      "outputs": []
    },
    {
      "cell_type": "code",
      "source": [
        "con = sqlite3.connect(\"/content/drive/MyDrive/Colab Notebooks/webAPI/DB/DB_test.db\")\n",
        "cur = con.cursor()"
      ],
      "metadata": {
        "id": "yEpJj1qR9E9M"
      },
      "execution_count": null,
      "outputs": []
    },
    {
      "cell_type": "code",
      "source": [
        "df = psql.read_sql(\"select * from ArticleListDB\", con)\n",
        "detail_map = {\n",
        "    \"search_day\": 0,\n",
        "    \"search_time\": 1,\n",
        "    \"search_key\": 2,\n",
        "    \"article_title\": 3,\n",
        "    \"article_url\": 4,\n",
        "    \"company\": 5,\n",
        "    \"type\": 6,\n",
        "    \"category\": 7,\n",
        "    \"keyword\": 8\n",
        "}\n",
        "for record in df.values:\n",
        "  print(record[detail_map[\"search_day\"]], record[detail_map[\"article_title\"]])"
      ],
      "metadata": {
        "colab": {
          "base_uri": "https://localhost:8080/"
        },
        "id": "Ts061r9a-hEP",
        "outputId": "a9e5faeb-5cb2-4808-d6cc-080ee7b32523"
      },
      "execution_count": null,
      "outputs": [
        {
          "output_type": "stream",
          "name": "stdout",
          "text": [
            "2022-01-25 テストタイトル\n",
            "2022-01-25 テストタイトル\n",
            "2022-01-25 テストタイトル\n",
            "2022-01-25 テストタイトル\n",
            "2022-01-25 テストタイトル\n",
            "2022-01-25 テストタイトル\n",
            "2022-01-25 テストタイトル\n",
            "2022-01-26 テストタイトル\n",
            "2022-01-29 テストタイトル\n",
            "2022-01-29 テストタイトル\n",
            "2022-01-29 テストタイトル\n",
            "2022-01-29 テストタイトル\n",
            "2022-01-29 テストタイトル\n",
            "2022-01-29 テストタイトル\n",
            "2022-01-29 テストタイトル\n",
            "2022-01-29 テストタイトル\n"
          ]
        }
      ]
    },
    {
      "cell_type": "code",
      "source": [
        "!wget https://bin.equinox.io/c/4VmDzA7iaHb/ngrok-stable-linux-amd64.zip\n",
        "!unzip ngrok-stable-linux-amd64.zip\n",
        "!rm -f ngrok-stable-linux-amd64.zip"
      ],
      "metadata": {
        "id": "Zcw4Gp9ajVrV"
      },
      "execution_count": null,
      "outputs": []
    },
    {
      "cell_type": "code",
      "source": [
        "get_ipython().system_raw('./ngrok http 6006 &')\n",
        "!curl -s http://localhost:4040/api/tunnels"
      ],
      "metadata": {
        "id": "iehB-hqiAgXl"
      },
      "execution_count": null,
      "outputs": []
    },
    {
      "cell_type": "code",
      "source": [
        "from flask.helpers import make_response\n",
        "from flask import Flask, render_template, jsonify\n",
        "import codecs\n",
        "\n",
        "\n",
        "connect = sqlite3.connect(\"/content/drive/MyDrive/Colab Notebooks/webAPI/DB/DB_test.db\", check_same_thread=False)\n",
        "detail_map = {\n",
        "    \"search_day\": 0,\n",
        "    \"search_time\": 1,\n",
        "    \"search_key\": 2,\n",
        "    \"article_title\": 3,\n",
        "    \"article_url\": 4,\n",
        "    \"company\": 5,\n",
        "    \"type\": 6,\n",
        "    \"category\": 7,\n",
        "    \"keyword\": 8\n",
        "}\n",
        "\n",
        "app = Flask(__name__)\n",
        "app.config['JSON_AS_ASCII'] = False\n",
        "\n",
        "@app.route(\"/\")\n",
        "def index():\n",
        "  details = psql.read_sql(\"select * from ArticleListDB\", connect)\n",
        "  response = list()\n",
        "  for record in details.values:\n",
        "    res = {\n",
        "        \"OK\": \"true\",\n",
        "        \"datas\": {\n",
        "            \"day\": record[detail_map[\"search_day\"]],\n",
        "            \"title\": record[detail_map[\"article_title\"]]\n",
        "            # \"title\": codecs.decode(record[detail_map[\"article_title\"]].encode())\n",
        "        }\n",
        "    }\n",
        "    response.append(res)\n",
        "  return make_response(jsonify(response))\n",
        "\n",
        "if __name__ == '__main__':\n",
        "    app.run(port=6006)"
      ],
      "metadata": {
        "id": "fhTsjcvVBFSM"
      },
      "execution_count": null,
      "outputs": []
    },
    {
      "cell_type": "code",
      "source": [
        "!pip install fastapi"
      ],
      "metadata": {
        "id": "IDq_cxjlITNW"
      },
      "execution_count": null,
      "outputs": []
    },
    {
      "cell_type": "code",
      "source": [
        "!pip install colabcode\n"
      ],
      "metadata": {
        "id": "XHb0sX1osCgg"
      },
      "execution_count": null,
      "outputs": []
    },
    {
      "cell_type": "code",
      "source": [
        "from fastapi import FastAPI\n",
        "from collections import Counter, OrderedDict\n",
        "from typing import Dict, List\n",
        "\n",
        "connect = sqlite3.connect(\"/content/drive/MyDrive/Colab Notebooks/webAPI/DB/article_list.db\", check_same_thread=False)\n",
        "detail_map = {\n",
        "    \"search_day\": 1,\n",
        "    \"search_time\": 2,\n",
        "    \"search_key\": 3,\n",
        "    \"article_title\": 4,\n",
        "    \"article_url\": 5,\n",
        "    \"company\": 6,\n",
        "    \"type\": 7,\n",
        "    \"category\": 8,\n",
        "    \"keyword\": 9\n",
        "}\n",
        "\n",
        "app = FastAPI()\n",
        "\n",
        "@app.get(\"/\")\n",
        "async def index() -> Dict[str, List[str]]:\n",
        "  details = psql.read_sql('select * from ArticleListDB where search_day = \"2022-01-29\" and search_key=\"いま話題\"', connect)\n",
        "  category_list = list()\n",
        "  response = {\n",
        "      \"OK\": \"true\",\n",
        "      \"DBdetails\":[],\n",
        "      \"counters\":[]\n",
        "  }\n",
        "  for record in details.values:\n",
        "    dbdetail = {\n",
        "        \"day\": record[detail_map[\"search_day\"]],\n",
        "        \"title\": record[detail_map[\"article_title\"]]\n",
        "    }\n",
        "    response[\"DBdetails\"].append(dbdetail)\n",
        "\n",
        "    cs = record[detail_map[\"category\"]]\n",
        "    categorys = cs.split(\",\")\n",
        "    for category in categorys:\n",
        "      category_list.append(category)\n",
        "\n",
        "  category_count = Counter(category_list)\n",
        "  category_count_sort = OrderedDict(sorted(category_count.items(), key=lambda x:x[1], reverse=True))\n",
        "  for key in category_count_sort.keys():\n",
        "    detail = {\n",
        "        \"key\": key,\n",
        "        \"count\": category_count_sort[key]\n",
        "    }\n",
        "    response[\"counters\"].append(detail)\n",
        "  return response"
      ],
      "metadata": {
        "id": "x1-fglbiqLtI"
      },
      "execution_count": 107,
      "outputs": []
    },
    {
      "cell_type": "code",
      "source": [
        "from colabcode import ColabCode"
      ],
      "metadata": {
        "id": "PQx5BLKWqDGQ"
      },
      "execution_count": null,
      "outputs": []
    },
    {
      "cell_type": "code",
      "source": [
        "!./ngrok authtoken 24N9Bxzx9MgtFjVMgmJFteFNtfZ_2irEzpPvsGbmTfHWziMhZ"
      ],
      "metadata": {
        "id": "3jJXyMAP22XO"
      },
      "execution_count": null,
      "outputs": []
    },
    {
      "cell_type": "code",
      "source": [
        "server = ColabCode(port=6006, code=False)\n",
        "server.run_app(app=app)"
      ],
      "metadata": {
        "colab": {
          "base_uri": "https://localhost:8080/"
        },
        "id": "6GbpsCfksXEk",
        "outputId": "b2293c77-4ab1-42e5-8e24-c1655d60c458"
      },
      "execution_count": 108,
      "outputs": [
        {
          "output_type": "stream",
          "name": "stdout",
          "text": [
            "Public URL: NgrokTunnel: \"https://53fa-35-184-219-20.ngrok.io\" -> \"http://localhost:6006\"\n"
          ]
        },
        {
          "output_type": "stream",
          "name": "stderr",
          "text": [
            "INFO:     Started server process [61]\n",
            "INFO:     Waiting for application startup.\n",
            "INFO:     Application startup complete.\n",
            "INFO:     Uvicorn running on http://127.0.0.1:6006 (Press CTRL+C to quit)\n"
          ]
        },
        {
          "output_type": "stream",
          "name": "stdout",
          "text": [
            "INFO:     2400:2411:740:fc00:6044:a4a3:20b6:3840:0 - \"GET / HTTP/1.1\" 200 OK\n",
            "INFO:     2400:2411:740:fc00:6044:a4a3:20b6:3840:0 - \"GET /favicon.ico HTTP/1.1\" 404 Not Found\n",
            "INFO:     2400:2411:740:fc00:6044:a4a3:20b6:3840:0 - \"GET /docs HTTP/1.1\" 200 OK\n",
            "INFO:     2400:2411:740:fc00:6044:a4a3:20b6:3840:0 - \"GET /openapi.json HTTP/1.1\" 200 OK\n",
            "INFO:     2400:2411:740:fc00:6044:a4a3:20b6:3840:0 - \"GET /redocs HTTP/1.1\" 404 Not Found\n",
            "INFO:     2400:2411:740:fc00:6044:a4a3:20b6:3840:0 - \"GET /redoc HTTP/1.1\" 200 OK\n",
            "INFO:     2400:2411:740:fc00:6044:a4a3:20b6:3840:0 - \"GET /openapi.json HTTP/1.1\" 200 OK\n",
            "INFO:     2400:2411:740:fc00:6044:a4a3:20b6:3840:0 - \"GET /openapi.json HTTP/1.1\" 200 OK\n"
          ]
        },
        {
          "output_type": "stream",
          "name": "stderr",
          "text": [
            "INFO:     Shutting down\n",
            "INFO:     Waiting for application shutdown.\n",
            "INFO:     Application shutdown complete.\n",
            "INFO:     Finished server process [61]\n"
          ]
        }
      ]
    }
  ]
}